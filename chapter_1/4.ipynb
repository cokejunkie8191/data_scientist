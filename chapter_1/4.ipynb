{
  "nbformat": 4,
  "nbformat_minor": 0,
  "metadata": {
    "colab": {
      "name": "4.ipynb",
      "version": "0.3.2",
      "provenance": []
    },
    "language_info": {
      "name": "python",
      "codemirror_mode": {
        "name": "ipython",
        "version": 3
      }
    }
  },
  "cells": [
    {
      "cell_type": "code",
      "metadata": {
        "id": "_c5fEWQLnXQz",
        "colab_type": "code",
        "colab": {},
        "outputId": "8ee11c3e-87be-44fd-e504-bf92da7e3854"
      },
      "source": [
        "1 == 1\n"
      ],
      "execution_count": 0,
      "outputs": [
        {
          "output_type": "execute_result",
          "data": {
            "text/plain": [
              "True"
            ]
          },
          "metadata": {
            "tags": []
          },
          "execution_count": 91
        }
      ]
    },
    {
      "cell_type": "code",
      "metadata": {
        "id": "K3xDoh6unXQ5",
        "colab_type": "code",
        "colab": {},
        "outputId": "65b1ce30-8833-4e02-9e91-a885dcdf2bb5"
      },
      "source": [
        "1 == 2\n"
      ],
      "execution_count": 0,
      "outputs": [
        {
          "output_type": "execute_result",
          "data": {
            "text/plain": [
              "False"
            ]
          },
          "metadata": {
            "tags": []
          },
          "execution_count": 92
        }
      ]
    },
    {
      "cell_type": "code",
      "metadata": {
        "id": "AXoUVP2rnXQ8",
        "colab_type": "code",
        "colab": {},
        "outputId": "11a02e97-bdbc-45e8-f138-305a61727c67"
      },
      "source": [
        "1 != 2\n"
      ],
      "execution_count": 0,
      "outputs": [
        {
          "output_type": "execute_result",
          "data": {
            "text/plain": [
              "True"
            ]
          },
          "metadata": {
            "tags": []
          },
          "execution_count": 93
        }
      ]
    },
    {
      "cell_type": "code",
      "metadata": {
        "id": "gxKHp6DvnXRC",
        "colab_type": "code",
        "colab": {},
        "outputId": "9fc71c9d-4348-4965-beca-0f57c051d4ad"
      },
      "source": [
        "1 > 0\n"
      ],
      "execution_count": 0,
      "outputs": [
        {
          "output_type": "execute_result",
          "data": {
            "text/plain": [
              "True"
            ]
          },
          "metadata": {
            "tags": []
          },
          "execution_count": 94
        }
      ]
    },
    {
      "cell_type": "code",
      "metadata": {
        "id": "YmrO1z6knXRH",
        "colab_type": "code",
        "colab": {},
        "outputId": "77bcf8c4-de58-49a5-ba8d-0cb51bb23178"
      },
      "source": [
        "1 > 2\n"
      ],
      "execution_count": 0,
      "outputs": [
        {
          "output_type": "execute_result",
          "data": {
            "text/plain": [
              "False"
            ]
          },
          "metadata": {
            "tags": []
          },
          "execution_count": 95
        }
      ]
    },
    {
      "cell_type": "code",
      "metadata": {
        "id": "UT7TeHQSnXRM",
        "colab_type": "code",
        "colab": {},
        "outputId": "da83f91e-19d9-4b2a-8acc-bf3beb726fd8"
      },
      "source": [
        "(1 > 0) and (10 > 5)\n"
      ],
      "execution_count": 0,
      "outputs": [
        {
          "output_type": "execute_result",
          "data": {
            "text/plain": [
              "True"
            ]
          },
          "metadata": {
            "tags": []
          },
          "execution_count": 96
        }
      ]
    },
    {
      "cell_type": "code",
      "metadata": {
        "id": "KW6EkyzVnXRQ",
        "colab_type": "code",
        "colab": {},
        "outputId": "6fe3f7c8-b695-45e0-921e-413a2078bea2"
      },
      "source": [
        "(1 < 0) or (10 > 5)\n"
      ],
      "execution_count": 0,
      "outputs": [
        {
          "output_type": "execute_result",
          "data": {
            "text/plain": [
              "True"
            ]
          },
          "metadata": {
            "tags": []
          },
          "execution_count": 97
        }
      ]
    },
    {
      "cell_type": "code",
      "metadata": {
        "id": "OYaBbwsjnXRT",
        "colab_type": "code",
        "colab": {},
        "outputId": "2d8908f0-f808-4b6c-c736-03584f0221b4"
      },
      "source": [
        "find_value = 5\n",
        "data_list = list(range(0, 6))\n",
        "\n",
        "if find_value in data_list:\n",
        "    print(\"{0} was find in data_list!\".format(find_value))\n",
        "else:\n",
        "    print(\"{0} was not find in data_list...\".format(find_value))\n",
        "\n",
        "print(\"here is always done.\")\n"
      ],
      "execution_count": 0,
      "outputs": [
        {
          "output_type": "stream",
          "text": [
            "5 was find in data_list!\n",
            "here is always done.\n"
          ],
          "name": "stdout"
        }
      ]
    },
    {
      "cell_type": "code",
      "metadata": {
        "id": "ATrUsagjnXRa",
        "colab_type": "code",
        "colab": {},
        "outputId": "9b4fdf4e-110e-48ba-8fb4-13fa714447a7"
      },
      "source": [
        "total = 0\n",
        "\n",
        "for num in range(5):\n",
        "    print(\"num: \", num)\n",
        "    total += num\n",
        "print(\"total: \", total)\n",
        "\n"
      ],
      "execution_count": 0,
      "outputs": [
        {
          "output_type": "stream",
          "text": [
            "num:  0\n",
            "num:  1\n",
            "num:  2\n",
            "num:  3\n",
            "num:  4\n",
            "total:  10\n"
          ],
          "name": "stdout"
        }
      ]
    },
    {
      "cell_type": "code",
      "metadata": {
        "id": "taRjvCOmnXRd",
        "colab_type": "code",
        "colab": {},
        "outputId": "561fe50d-137e-4660-f7c9-03e199ab158b"
      },
      "source": [
        "dic_data = {'apple': 100, 'banana': 100,\n",
        "            'orange': 300, 'mango': 400, 'melon': 500}\n",
        "\n",
        "for key, value in dic_data.items():\n",
        "    print(\"key: \", key)\n",
        "    print(\"value: \", value)\n",
        "\n"
      ],
      "execution_count": 0,
      "outputs": [
        {
          "output_type": "stream",
          "text": [
            "key:  apple\n",
            "value:  100\n",
            "key:  banana\n",
            "value:  100\n",
            "key:  orange\n",
            "value:  300\n",
            "key:  mango\n",
            "value:  400\n",
            "key:  melon\n",
            "value:  500\n"
          ],
          "name": "stdout"
        }
      ]
    },
    {
      "cell_type": "code",
      "metadata": {
        "id": "m70cpLLdnXRg",
        "colab_type": "code",
        "colab": {},
        "outputId": "4a3f6994-1aad-45f5-bd14-79bc6eacc66f"
      },
      "source": [
        "for i in range(1, 11, 2):\n",
        "    print(i)\n"
      ],
      "execution_count": 0,
      "outputs": [
        {
          "output_type": "stream",
          "text": [
            "1\n",
            "3\n",
            "5\n",
            "7\n",
            "9\n"
          ],
          "name": "stdout"
        }
      ]
    },
    {
      "cell_type": "code",
      "metadata": {
        "id": "vgEhV1VinXRk",
        "colab_type": "code",
        "colab": {},
        "outputId": "013e0a80-71ac-437f-f184-3d94fbe4b8b1"
      },
      "source": [
        "data_list = []\n",
        "\n",
        "# リスト内法表記\n",
        "data_list = [i * 2 for i in range(1, 11)]\n",
        "print(data_list)\n"
      ],
      "execution_count": 0,
      "outputs": [
        {
          "output_type": "stream",
          "text": [
            "[2, 4, 6, 8, 10, 12, 14, 16, 18, 20]\n"
          ],
          "name": "stdout"
        }
      ]
    },
    {
      "cell_type": "code",
      "metadata": {
        "id": "V7f3v1IenXRp",
        "colab_type": "code",
        "colab": {},
        "outputId": "89503438-e864-4d4d-d3cd-8dd84e394b19"
      },
      "source": [
        "\n",
        "# リスト内法表記２\n",
        "[i * 2 for i in range(1, 11) if i % 2 == 0]\n"
      ],
      "execution_count": 0,
      "outputs": [
        {
          "output_type": "execute_result",
          "data": {
            "text/plain": [
              "[4, 8, 12, 16, 20]"
            ]
          },
          "metadata": {
            "tags": []
          },
          "execution_count": 103
        }
      ]
    },
    {
      "cell_type": "code",
      "metadata": {
        "id": "gsLDSt-pnXRu",
        "colab_type": "code",
        "colab": {},
        "outputId": "2321f1d9-6396-4aba-93c9-e965a9fa83ad"
      },
      "source": [
        "for one, two in zip(list(range(11)), list(range(11)[::-1])):\n",
        "    print(\"one: \", one)\n",
        "    print(\"two: \", two)\n",
        "\n"
      ],
      "execution_count": 0,
      "outputs": [
        {
          "output_type": "stream",
          "text": [
            "one:  0\n",
            "two:  10\n",
            "one:  1\n",
            "two:  9\n",
            "one:  2\n",
            "two:  8\n",
            "one:  3\n",
            "two:  7\n",
            "one:  4\n",
            "two:  6\n",
            "one:  5\n",
            "two:  5\n",
            "one:  6\n",
            "two:  4\n",
            "one:  7\n",
            "two:  3\n",
            "one:  8\n",
            "two:  2\n",
            "one:  9\n",
            "two:  1\n",
            "one:  10\n",
            "two:  0\n"
          ],
          "name": "stdout"
        }
      ]
    },
    {
      "cell_type": "code",
      "metadata": {
        "id": "ii1GfkYfnXRy",
        "colab_type": "code",
        "colab": {},
        "outputId": "7f452c32-1b24-48a2-d3d3-ca3475772ce9"
      },
      "source": [
        "num = 1\n",
        "\n",
        "while num <= 10:\n",
        "    print(num)\n",
        "    num += 1\n",
        "print('last value is {0}.'.format(num))\n"
      ],
      "execution_count": 0,
      "outputs": [
        {
          "output_type": "stream",
          "text": [
            "1\n",
            "2\n",
            "3\n",
            "4\n",
            "5\n",
            "6\n",
            "7\n",
            "8\n",
            "9\n",
            "10\n",
            "last value is 11.\n"
          ],
          "name": "stdout"
        }
      ]
    }
  ]
}