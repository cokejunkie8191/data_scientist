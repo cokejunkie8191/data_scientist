{
  "nbformat": 4,
  "nbformat_minor": 0,
  "metadata": {
    "colab": {
      "name": "overall.ipynb",
      "version": "0.3.2",
      "provenance": []
    },
    "language_info": {
      "name": "python",
      "codemirror_mode": {
        "name": "ipython",
        "version": 3
      }
    }
  },
  "cells": [
    {
      "cell_type": "code",
      "metadata": {
        "id": "UnKFeK8_nreH",
        "colab_type": "code",
        "colab": {},
        "outputId": "005d654e-41de-4451-f855-cc52bdd008a3"
      },
      "source": [
        "# 1～10までの素数判定\n",
        "for i in range(2, 11):\n",
        "    cnt = 0\n",
        "    for j in range(1, 11):\n",
        "        if i % j == 0:\n",
        "            cnt += 1\n",
        "        if j == i and cnt == 2:\n",
        "            print(i)\n"
      ],
      "execution_count": 0,
      "outputs": [
        {
          "output_type": "stream",
          "text": [
            "2\n",
            "3\n",
            "5\n",
            "7\n"
          ],
          "name": "stdout"
        }
      ]
    },
    {
      "cell_type": "code",
      "metadata": {
        "id": "bHcEcqhwnreM",
        "colab_type": "code",
        "colab": {},
        "outputId": "ff3e9211-0f8e-433c-c03a-cc5f2f23cbae"
      },
      "source": [
        "\n",
        "\n",
        "def get_prime_number(n):\n",
        "    l = []\n",
        "    for i in range(2, n + 1):  # 1は素数でないので除外\n",
        "        cnt = 0\n",
        "        for j in range(1, n + 1):\n",
        "            if i % j == 0:\n",
        "                cnt += 1\n",
        "            if j == i and cnt == 2:\n",
        "                l.append(i)\n",
        "    return l\n",
        "\n",
        "\n",
        "print(get_prime_number(10))\n"
      ],
      "execution_count": 0,
      "outputs": [
        {
          "output_type": "stream",
          "text": [
            "[2, 3, 5, 7]\n"
          ],
          "name": "stdout"
        }
      ]
    },
    {
      "cell_type": "code",
      "metadata": {
        "id": "Opq5LF0dnreQ",
        "colab_type": "code",
        "colab": {}
      },
      "source": [
        ""
      ],
      "execution_count": 0,
      "outputs": []
    }
  ]
}