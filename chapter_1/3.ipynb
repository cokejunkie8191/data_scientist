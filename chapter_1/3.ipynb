{
  "nbformat": 4,
  "nbformat_minor": 0,
  "metadata": {
    "colab": {
      "name": "3.ipynb",
      "version": "0.3.2",
      "provenance": []
    },
    "language_info": {
      "name": "python",
      "codemirror_mode": {
        "name": "ipython",
        "version": 3
      }
    }
  },
  "cells": [
    {
      "cell_type": "code",
      "metadata": {
        "id": "7CaVSVUYnNfl",
        "colab_type": "code",
        "colab": {},
        "outputId": "7b44c2fe-8d98-4998-e85e-234e5a55f618"
      },
      "source": [
        "data_list = list(range(1, 11))\n",
        "print(data_list)\n",
        "\n",
        "# 変数の型\n",
        "print('変数のタイプ:', type(data_list))\n",
        "\n",
        "# 要素の取り出し\n",
        "print('2番目の要素: ', data_list[1])\n",
        "\n",
        "# 要素数\n",
        "print('要素数: ', len(data_list))\n"
      ],
      "execution_count": 0,
      "outputs": [
        {
          "output_type": "stream",
          "text": [
            "[1, 2, 3, 4, 5, 6, 7, 8, 9, 10]\n",
            "変数のタイプ: <class 'list'>\n",
            "2番目の要素:  2\n",
            "要素数:  10\n"
          ],
          "name": "stdout"
        }
      ]
    },
    {
      "cell_type": "code",
      "metadata": {
        "id": "lVJMEM72nNfr",
        "colab_type": "code",
        "colab": {},
        "outputId": "e30e77e9-624b-4995-9cf0-1857e94a3fdd"
      },
      "source": [
        "# Let's Try\n",
        "data_list_2 = list(range(1, 100)[0: -1: 10])\n",
        "print(data_list_2)\n"
      ],
      "execution_count": 0,
      "outputs": [
        {
          "output_type": "stream",
          "text": [
            "[1, 11, 21, 31, 41, 51, 61, 71, 81, 91]\n"
          ],
          "name": "stdout"
        }
      ]
    },
    {
      "cell_type": "code",
      "metadata": {
        "id": "sWTmrE0OnNfv",
        "colab_type": "code",
        "colab": {},
        "outputId": "aca96ae2-a024-4b91-e852-b92d7ab0acf7"
      },
      "source": [
        "# 配列に数値を掛けても長さが倍になるだけ。\n",
        "data_list_3 = data_list * 2\n",
        "print(data_list_3)\n",
        "\n"
      ],
      "execution_count": 0,
      "outputs": [
        {
          "output_type": "stream",
          "text": [
            "[1, 2, 3, 4, 5, 6, 7, 8, 9, 10, 1, 2, 3, 4, 5, 6, 7, 8, 9, 10]\n"
          ],
          "name": "stdout"
        }
      ]
    },
    {
      "cell_type": "code",
      "metadata": {
        "id": "A1eiZaVpnNf2",
        "colab_type": "code",
        "colab": {},
        "outputId": "dd52e25b-e9b6-4312-9c42-87ecb426f10f"
      },
      "source": [
        "# Let's Try\n",
        "# 追加\n",
        "data_list.append(11)\n",
        "print(data_list)\n",
        "# 削除\n",
        "data_list.pop(0)\n",
        "print(data_list)\n"
      ],
      "execution_count": 0,
      "outputs": [
        {
          "output_type": "stream",
          "text": [
            "[1, 2, 3, 4, 5, 6, 7, 8, 9, 10, 11]\n",
            "[2, 3, 4, 5, 6, 7, 8, 9, 10, 11]\n"
          ],
          "name": "stdout"
        }
      ]
    },
    {
      "cell_type": "code",
      "metadata": {
        "id": "qyppD9wKnNf5",
        "colab_type": "code",
        "colab": {},
        "outputId": "811d76a0-6c13-421c-82dd-a55feab935b9"
      },
      "source": [
        "# 辞書型\n",
        "dic_data = {'apple': 100, 'banana': 100, 'orange': 300, 'mango': 400, 'melon': 500}\n",
        "print(dic_data['melon'])\n",
        "\n",
        "# Let's Try\n",
        "print(dic_data['orange']) # オレンジの値段\n",
        "# リンゴとオレンジの合計金額\n",
        "print(dic_data['apple'] + dic_data['orange'])\n",
        "\n",
        "# Let's Try\n",
        "# 要素の追加\n",
        "dic_data['peach'] = 600\n",
        "print(dic_data['peach'])\n",
        "\n",
        "# 要素の削除\n",
        "print(len(dic_data))\n",
        "del dic_data['peach']\n",
        "print(len(dic_data))\n",
        "\n"
      ],
      "execution_count": 0,
      "outputs": [
        {
          "output_type": "stream",
          "text": [
            "500\n",
            "300\n",
            "400\n",
            "600\n",
            "6\n",
            "5\n"
          ],
          "name": "stdout"
        }
      ]
    },
    {
      "cell_type": "code",
      "metadata": {
        "id": "-gnth8JEnNf9",
        "colab_type": "code",
        "colab": {},
        "outputId": "a5dcb25d-e74e-4e2f-9424-5454ced8a2d7"
      },
      "source": [
        "# タプル\n",
        "tpl = (1, 2, 3 ,4, 5)\n",
        "print(type(tpl))\n",
        "print(tpl[2])\n",
        "\n",
        "# 集合\n",
        "st = { 5, 4, 3, 2, 1 }\n",
        "print(type(st))\n"
      ],
      "execution_count": 0,
      "outputs": [
        {
          "output_type": "stream",
          "text": [
            "<class 'tuple'>\n",
            "3\n",
            "<class 'set'>\n"
          ],
          "name": "stdout"
        }
      ]
    }
  ]
}