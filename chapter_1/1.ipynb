{
  "nbformat": 4,
  "nbformat_minor": 0,
  "metadata": {
    "colab": {
      "name": "1.ipynb",
      "version": "0.3.2",
      "provenance": []
    },
    "kernelspec": {
      "name": "python3",
      "display_name": "Python 3"
    }
  },
  "cells": [
    {
      "cell_type": "code",
      "metadata": {
        "id": "2SZJN6MzQ3oO",
        "colab_type": "code",
        "colab": {
          "base_uri": "https://localhost:8080/",
          "height": 35
        },
        "outputId": "60af31d3-50a6-4a20-ebb1-4cd86ece0667"
      },
      "source": [
        "print('Hello World!')\n",
        "\n"
      ],
      "execution_count": 1,
      "outputs": [
        {
          "output_type": "stream",
          "text": [
            "Hello World!\n"
          ],
          "name": "stdout"
        }
      ]
    },
    {
      "cell_type": "code",
      "metadata": {
        "id": "PCt6D_R7Q3oT",
        "colab_type": "code",
        "colab": {
          "base_uri": "https://localhost:8080/",
          "height": 71
        },
        "outputId": "1f1004f9-2560-40d3-b880-ce6c31a5bd2b"
      },
      "source": [
        "# 足し算の例\n",
        "print(1 + 1)\n",
        "\n",
        "# 掛け算の例\n",
        "print(2 * 5)\n",
        "\n",
        "# 10の3乗\n",
        "print(10**3)\n"
      ],
      "execution_count": 2,
      "outputs": [
        {
          "output_type": "stream",
          "text": [
            "2\n",
            "10\n",
            "1000\n"
          ],
          "name": "stdout"
        }
      ]
    }
  ]
}