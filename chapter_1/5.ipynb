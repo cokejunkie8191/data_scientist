{
  "nbformat": 4,
  "nbformat_minor": 0,
  "metadata": {
    "colab": {
      "name": "5.ipynb",
      "version": "0.3.2",
      "provenance": []
    },
    "language_info": {
      "name": "python",
      "codemirror_mode": {
        "name": "ipython",
        "version": 3
      }
    }
  },
  "cells": [
    {
      "cell_type": "code",
      "metadata": {
        "id": "63dZsgiuz7BZ",
        "colab_type": "code",
        "colab": {},
        "outputId": "61c83bea-4535-4434-c5fb-bf6b250c4d1f"
      },
      "source": [
        "from functools import reduce\n",
        "\n",
        "\n",
        "def calc_multi(a, b):\n",
        "    return a * b\n",
        "\n",
        "\n",
        "calc_multi(3, 10)\n"
      ],
      "execution_count": 0,
      "outputs": [
        {
          "output_type": "execute_result",
          "data": {
            "text/plain": [
              "30"
            ]
          },
          "metadata": {
            "tags": []
          },
          "execution_count": 122
        }
      ]
    },
    {
      "cell_type": "code",
      "metadata": {
        "id": "xQ1L5JbEz7Bd",
        "colab_type": "code",
        "colab": {},
        "outputId": "0fcc21aa-7979-42ff-f5be-57612b7f22df"
      },
      "source": [
        "\n",
        "\n",
        "def calc_print():\n",
        "    print('sample for print.')\n",
        "\n",
        "\n",
        "calc_print()\n"
      ],
      "execution_count": 0,
      "outputs": [
        {
          "output_type": "stream",
          "text": [
            "sample for print.\n"
          ],
          "name": "stdout"
        }
      ]
    },
    {
      "cell_type": "code",
      "metadata": {
        "id": "e2MIr19Wz7Bg",
        "colab_type": "code",
        "colab": {},
        "outputId": "070e7a58-ee37-4777-8abf-95827cba0f51"
      },
      "source": [
        "\n",
        "\n",
        "def calc_fib(n):\n",
        "    if n == 1 or n == 2:\n",
        "        return 1\n",
        "    else:\n",
        "        return calc_fib(n - 1) + calc_fib(n - 2)\n",
        "\n",
        "\n",
        "print('フィボナッチ数: ', calc_fib(10))\n"
      ],
      "execution_count": 0,
      "outputs": [
        {
          "output_type": "stream",
          "text": [
            "フィボナッチ数:  55\n"
          ],
          "name": "stdout"
        }
      ]
    },
    {
      "cell_type": "code",
      "metadata": {
        "id": "3Z7gMf2Xz7Bk",
        "colab_type": "code",
        "colab": {},
        "outputId": "1f30f82c-5f7e-4fde-d163-5442e6f91b77"
      },
      "source": [
        "# 無名関数\n",
        "(lambda a, b: a * b)(3, 10)\n"
      ],
      "execution_count": 0,
      "outputs": [
        {
          "output_type": "execute_result",
          "data": {
            "text/plain": [
              "30"
            ]
          },
          "metadata": {
            "tags": []
          },
          "execution_count": 125
        }
      ]
    },
    {
      "cell_type": "code",
      "metadata": {
        "id": "MdzzJOA8z7Bp",
        "colab_type": "code",
        "colab": {},
        "outputId": "0dae9414-73b8-4521-d08d-e0304c4d817f"
      },
      "source": [
        "\n",
        "\n",
        "def calc_double(x):\n",
        "    return x * 2\n",
        "\n",
        "\n",
        "for num in range(1, 5):\n",
        "    print(calc_double(num))\n"
      ],
      "execution_count": 0,
      "outputs": [
        {
          "output_type": "stream",
          "text": [
            "2\n",
            "4\n",
            "6\n",
            "8\n"
          ],
          "name": "stdout"
        }
      ]
    },
    {
      "cell_type": "code",
      "metadata": {
        "id": "5V2_fUX_z7Bt",
        "colab_type": "code",
        "colab": {},
        "outputId": "e12a121a-b8b5-4ac9-df1d-fab658b52dae"
      },
      "source": [
        "list(map(calc_double, range(1, 5)))\n"
      ],
      "execution_count": 0,
      "outputs": [
        {
          "output_type": "execute_result",
          "data": {
            "text/plain": [
              "[2, 4, 6, 8]"
            ]
          },
          "metadata": {
            "tags": []
          },
          "execution_count": 127
        }
      ]
    },
    {
      "cell_type": "code",
      "metadata": {
        "id": "6sF1Zh6hz7Bx",
        "colab_type": "code",
        "colab": {},
        "outputId": "9014d4c6-4742-4f37-da5f-dcb3a547a5c2"
      },
      "source": [
        "# mapの引数に無名関数を渡す\n",
        "list(map(lambda x: x * 2, range(1, 5)))\n"
      ],
      "execution_count": 0,
      "outputs": [
        {
          "output_type": "execute_result",
          "data": {
            "text/plain": [
              "[2, 4, 6, 8]"
            ]
          },
          "metadata": {
            "tags": []
          },
          "execution_count": 128
        }
      ]
    },
    {
      "cell_type": "code",
      "metadata": {
        "id": "CcokXWHaz7B0",
        "colab_type": "code",
        "colab": {},
        "outputId": "7e5100cc-622d-4e23-a569-508569805d15"
      },
      "source": [
        "# Let's Try\n",
        "# reduceを使うにはインポートが必要。\n",
        "reduce(lambda x, y: x + y, list(range(1, 11)))\n",
        "\n",
        "# 奇数のみをフィルタリング。\n",
        "list(filter(lambda x: x % 2 == 1, range(1, 11)))\n"
      ],
      "execution_count": 0,
      "outputs": [
        {
          "output_type": "execute_result",
          "data": {
            "text/plain": [
              "[1, 3, 5, 7, 9]"
            ]
          },
          "metadata": {
            "tags": []
          },
          "execution_count": 129
        }
      ]
    }
  ]
}