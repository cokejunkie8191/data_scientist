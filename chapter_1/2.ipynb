{
  "nbformat": 4,
  "nbformat_minor": 0,
  "metadata": {
    "colab": {
      "name": "2.ipynb",
      "version": "0.3.2",
      "provenance": []
    },
    "language_info": {
      "name": "python",
      "codemirror_mode": {
        "name": "ipython",
        "version": 3
      }
    }
  },
  "cells": [
    {
      "cell_type": "code",
      "metadata": {
        "id": "bHMvEOfznAyU",
        "colab_type": "code",
        "colab": {},
        "outputId": "d06b25c6-edab-4d02-9e05-914e8e480ee4"
      },
      "source": [
        "msg = 'test'\n",
        "print(msg)\n"
      ],
      "execution_count": 0,
      "outputs": [
        {
          "output_type": "stream",
          "text": [
            "test\n"
          ],
          "name": "stdout"
        }
      ]
    },
    {
      "cell_type": "code",
      "metadata": {
        "id": "oUjg8MsRnAyc",
        "colab_type": "code",
        "colab": {},
        "outputId": "01b82937-a901-401b-cae1-a5dd91ad18e7"
      },
      "source": [
        "msg[0]\n"
      ],
      "execution_count": 0,
      "outputs": [
        {
          "output_type": "execute_result",
          "data": {
            "text/plain": [
              "'t'"
            ]
          },
          "metadata": {
            "tags": []
          },
          "execution_count": 27
        }
      ]
    },
    {
      "cell_type": "code",
      "metadata": {
        "id": "Hch11sKwnAyj",
        "colab_type": "code",
        "colab": {},
        "outputId": "d13ba4c4-7e75-4a45-dcf4-6de994e1c222"
      },
      "source": [
        "msg[1]\n"
      ],
      "execution_count": 0,
      "outputs": [
        {
          "output_type": "execute_result",
          "data": {
            "text/plain": [
              "'e'"
            ]
          },
          "metadata": {
            "tags": []
          },
          "execution_count": 28
        }
      ]
    },
    {
      "cell_type": "code",
      "metadata": {
        "id": "Z2WPiptenAyq",
        "colab_type": "code",
        "colab": {},
        "outputId": "9f68b602-ad5e-48c0-ac93-284626faf2db"
      },
      "source": [
        "msg[5]\n"
      ],
      "execution_count": 0,
      "outputs": [
        {
          "output_type": "error",
          "ename": "IndexError",
          "evalue": "string index out of range",
          "traceback": [
            "\u001b[1;31m---------------------------------------------------------------------------\u001b[0m",
            "\u001b[1;31mIndexError\u001b[0m                                Traceback (most recent call last)",
            "\u001b[1;32m<ipython-input-29-3c3f3c907ca3>\u001b[0m in \u001b[0;36m<module>\u001b[1;34m()\u001b[0m\n\u001b[1;32m----> 1\u001b[1;33m \u001b[0mmsg\u001b[0m\u001b[1;33m[\u001b[0m\u001b[1;36m5\u001b[0m\u001b[1;33m]\u001b[0m\u001b[1;33m\u001b[0m\u001b[0m\n\u001b[0m",
            "\u001b[1;31mIndexError\u001b[0m: string index out of range"
          ]
        }
      ]
    },
    {
      "cell_type": "code",
      "metadata": {
        "id": "EITt5I9cnAyw",
        "colab_type": "code",
        "colab": {},
        "outputId": "b3ca23a4-8ed5-464c-b2d0-54f50f3ae709"
      },
      "source": [
        "data = 1\n",
        "print(data)\n",
        "\n",
        "data += 10\n",
        "print(data)"
      ],
      "execution_count": 0,
      "outputs": [
        {
          "output_type": "stream",
          "text": [
            "1\n",
            "11\n"
          ],
          "name": "stdout"
        }
      ]
    }
  ]
}