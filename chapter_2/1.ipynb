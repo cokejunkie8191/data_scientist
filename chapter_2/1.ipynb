{
  "nbformat": 4,
  "nbformat_minor": 0,
  "metadata": {
    "colab": {
      "name": "1.ipynb",
      "version": "0.3.2",
      "provenance": []
    },
    "kernelspec": {
      "name": "python3",
      "display_name": "Python 3"
    }
  },
  "cells": [
    {
      "cell_type": "markdown",
      "metadata": {
        "id": "lGrhg_iRi90m",
        "colab_type": "text"
      },
      "source": [
        "2-1 データ分析のライブラリ"
      ]
    },
    {
      "cell_type": "code",
      "metadata": {
        "id": "cZ6Fp-m8dF-T",
        "colab_type": "code",
        "colab": {}
      },
      "source": [
        "# ライブラリのインポート\n",
        "import numpy as np\n",
        "import numpy.random as random\n",
        "import scipy as sp\n",
        "import pandas as pd\n",
        "from pandas import Series, DataFrame\n",
        "\n",
        "import matplotlib.pyplot as plt\n",
        "import matplotlib as mpl\n",
        "import seaborn as sns\n",
        "# 結果にグラフを表示\n",
        "%matplotlib inline\n",
        "\n",
        "# 小数第3位まで表示\n",
        "%precision 3\n",
        "\n",
        "# 乱数のシード=>これを実行しておくと、何回やっても同じ結果になる\n",
        "random.seed(0)\n"
      ],
      "execution_count": 0,
      "outputs": []
    },
    {
      "cell_type": "markdown",
      "metadata": {
        "id": "j7ah2ISijBjD",
        "colab_type": "text"
      },
      "source": [
        "2-2 Numpyの基礎"
      ]
    },
    {
      "cell_type": "code",
      "metadata": {
        "id": "dEDjZt-YdF-a",
        "colab_type": "code",
        "colab": {
          "base_uri": "https://localhost:8080/",
          "height": 35
        },
        "outputId": "f2f87230-c593-45a6-8027-ad08a9b25253"
      },
      "source": [
        "\n",
        "# 配列\n",
        "data = np.array([random.randint(1, 10) for _ in range(1, 11)])\n",
        "data\n"
      ],
      "execution_count": 112,
      "outputs": [
        {
          "output_type": "execute_result",
          "data": {
            "text/plain": [
              "array([6, 1, 4, 4, 8, 4, 6, 3, 5, 8])"
            ]
          },
          "metadata": {
            "tags": []
          },
          "execution_count": 112
        }
      ]
    },
    {
      "cell_type": "code",
      "metadata": {
        "id": "7CPS6P4adF-h",
        "colab_type": "code",
        "colab": {
          "base_uri": "https://localhost:8080/",
          "height": 35
        },
        "outputId": "5be8c41d-75f1-4521-999d-4ed69419546d"
      },
      "source": [
        "# データ型\n",
        "data.dtype"
      ],
      "execution_count": 113,
      "outputs": [
        {
          "output_type": "execute_result",
          "data": {
            "text/plain": [
              "dtype('int64')"
            ]
          },
          "metadata": {
            "tags": []
          },
          "execution_count": 113
        }
      ]
    },
    {
      "cell_type": "code",
      "metadata": {
        "id": "Es2acjO1dKLo",
        "colab_type": "code",
        "colab": {
          "base_uri": "https://localhost:8080/",
          "height": 53
        },
        "outputId": "b18f9d21-b82a-4813-cb1c-643401b8b39b"
      },
      "source": [
        "# 次元数と要素数\n",
        "print('次元数: ', data.ndim)\n",
        "print('要素数:', data.size)"
      ],
      "execution_count": 114,
      "outputs": [
        {
          "output_type": "stream",
          "text": [
            "次元数:  1\n",
            "要素数: 10\n"
          ],
          "name": "stdout"
        }
      ]
    },
    {
      "cell_type": "code",
      "metadata": {
        "id": "E7URb-20dm8O",
        "colab_type": "code",
        "colab": {
          "base_uri": "https://localhost:8080/",
          "height": 107
        },
        "outputId": "d4d10759-6865-449c-a4f0-2a1274632fc0"
      },
      "source": [
        "# すべての要素に対する計算\n",
        "data * 2\n",
        "\n",
        "l1 = [random.randint(1, 10) for i in range(1, 11)]\n",
        "print(l1)\n",
        "l2 = [random.randint(1, 10) for i in range(1, 11)]\n",
        "print(l2)\n",
        "print('掛け算:', np.array(l1) * np.array(l2))\n",
        "print('累乗:', np.array(l1) ** 2)\n",
        "print('割り算:', np.array(l1) / np.array(l2))"
      ],
      "execution_count": 115,
      "outputs": [
        {
          "output_type": "stream",
          "text": [
            "[7, 9, 9, 2, 7, 8, 8, 9, 2, 6]\n",
            "[9, 5, 4, 1, 4, 6, 1, 3, 4, 9]\n",
            "掛け算: [63 45 36  2 28 48  8 27  8 54]\n",
            "累乗: [49 81 81  4 49 64 64 81  4 36]\n",
            "割り算: [0.778 1.8   2.25  2.    1.75  1.333 8.    3.    0.5   0.667]\n"
          ],
          "name": "stdout"
        }
      ]
    },
    {
      "cell_type": "code",
      "metadata": {
        "id": "xLgMjZWWep6V",
        "colab_type": "code",
        "colab": {
          "base_uri": "https://localhost:8080/",
          "height": 71
        },
        "outputId": "c4c07f42-46a2-4e3d-c6c5-050b9815fcdc"
      },
      "source": [
        "# ソート\n",
        "print('そのまま: ', data)\n",
        "data.sort()\n",
        "print('ソート: ', data)\n",
        "\n",
        "# ソートしたままになる\n",
        "data\n",
        "\n",
        "# 逆順\n",
        "data[::-1].sort()\n",
        "data"
      ],
      "execution_count": 116,
      "outputs": [
        {
          "output_type": "stream",
          "text": [
            "そのまま:  [6 1 4 4 8 4 6 3 5 8]\n",
            "ソート:  [1 3 4 4 4 5 6 6 8 8]\n"
          ],
          "name": "stdout"
        },
        {
          "output_type": "execute_result",
          "data": {
            "text/plain": [
              "array([8, 8, 6, 6, 5, 4, 4, 4, 3, 1])"
            ]
          },
          "metadata": {
            "tags": []
          },
          "execution_count": 116
        }
      ]
    },
    {
      "cell_type": "code",
      "metadata": {
        "id": "SbWr-uTAf0HI",
        "colab_type": "code",
        "colab": {
          "base_uri": "https://localhost:8080/",
          "height": 107
        },
        "outputId": "cad48dfb-64ef-4b69-9363-2955e76b9a68"
      },
      "source": [
        "# 最小、最大、合計、積上の計算\n",
        "\n",
        "# 最小値\n",
        "print(data.min())\n",
        "# 最大値\n",
        "print(data.max())\n",
        "# 合計\n",
        "print(data.sum())\n",
        "# 積上\n",
        "print(data.cumsum())\n",
        "# 積上割合\n",
        "print(data.cumsum() / data.sum())"
      ],
      "execution_count": 117,
      "outputs": [
        {
          "output_type": "stream",
          "text": [
            "1\n",
            "8\n",
            "49\n",
            "[ 8 16 22 28 33 37 41 45 48 49]\n",
            "[0.163 0.327 0.449 0.571 0.673 0.755 0.837 0.918 0.98  1.   ]\n"
          ],
          "name": "stdout"
        }
      ]
    },
    {
      "cell_type": "code",
      "metadata": {
        "id": "IV7CiDmgiHOl",
        "colab_type": "code",
        "colab": {
          "base_uri": "https://localhost:8080/",
          "height": 35
        },
        "outputId": "5e51e63e-1421-4922-ff69-48a942d515b3"
      },
      "source": [
        "# 乱数の発生\n",
        "\n",
        "# 正規分布(平均0, 分散1)の乱数を10個生成\n",
        "rnd_data = random.randn(10)\n",
        "\n",
        "print('乱数*10の配列: ', rnd_data)"
      ],
      "execution_count": 118,
      "outputs": [
        {
          "output_type": "stream",
          "text": [
            "乱数*10の配列:  [ 0.097  1.419  1.168  0.947  1.085  2.382 -0.406  0.266 -1.356 -0.114]\n"
          ],
          "name": "stdout"
        }
      ]
    },
    {
      "cell_type": "code",
      "metadata": {
        "id": "BkvhDsiWk8Ni",
        "colab_type": "code",
        "colab": {
          "base_uri": "https://localhost:8080/",
          "height": 53
        },
        "outputId": "186b55e9-9527-4018-bbe5-53f065c2b9ee"
      },
      "source": [
        "# データのランダムな抽出\n",
        "data = np.arange(10) + 1\n",
        "print(data)\n",
        "print(random.choice(data, 10)) # 重複ありで抽出\n",
        "print(random.choice(data, 10, replace=False))"
      ],
      "execution_count": 129,
      "outputs": [
        {
          "output_type": "stream",
          "text": [
            "[10  5 10  6  5  3  8  1  9  8]\n",
            "[ 2  4  1  7  8  3  5 10  9  6]\n"
          ],
          "name": "stdout"
        }
      ]
    },
    {
      "cell_type": "code",
      "metadata": {
        "id": "JcC-n923mAMk",
        "colab_type": "code",
        "colab": {
          "base_uri": "https://localhost:8080/",
          "height": 53
        },
        "outputId": "6ffa7946-98e3-4d0e-f8c0-1313d8d46cab"
      },
      "source": [
        "# Numpyの速度測定\n",
        "N = 10**6\n",
        "\n",
        "# pythonの標準ライブラリ\n",
        "normal_data = [random.random() for _ in range(N)]\n",
        "# numpy\n",
        "numpy_rand_data = np.array(normal_data)\n",
        "\n",
        "# 標準ライブラリを用いた合計算出に掛かる時間\n",
        "%timeit -n 1000 sum(normal_data)\n",
        "\n",
        "# numpyを用いた合計算出に掛かる時間\n",
        "%timeit -n 1000 np.sum(numpy_rand_data)"
      ],
      "execution_count": 122,
      "outputs": [
        {
          "output_type": "stream",
          "text": [
            "1000 loops, best of 3: 8.05 ms per loop\n",
            "1000 loops, best of 3: 408 µs per loop\n"
          ],
          "name": "stdout"
        }
      ]
    },
    {
      "cell_type": "code",
      "metadata": {
        "id": "HG72UZvGnNZQ",
        "colab_type": "code",
        "colab": {
          "base_uri": "https://localhost:8080/",
          "height": 89
        },
        "outputId": "aedc2460-4006-420d-f5c1-50022bbd75f9"
      },
      "source": [
        "# 行列\n",
        "np.arange(9) + 1\n",
        "\n",
        "array1 = np.arange(9).reshape(3, 3)\n",
        "print(array1)\n",
        "\n",
        "array1[0,:] # 1行目すべて\n",
        "array1[:,0] # 1列目すべて\n"
      ],
      "execution_count": 168,
      "outputs": [
        {
          "output_type": "stream",
          "text": [
            "[[0 1 2]\n",
            " [3 4 5]\n",
            " [6 7 8]]\n"
          ],
          "name": "stdout"
        },
        {
          "output_type": "execute_result",
          "data": {
            "text/plain": [
              "array([0, 3, 6])"
            ]
          },
          "metadata": {
            "tags": []
          },
          "execution_count": 168
        }
      ]
    },
    {
      "cell_type": "code",
      "metadata": {
        "id": "WEzD0rXVo73E",
        "colab_type": "code",
        "colab": {
          "base_uri": "https://localhost:8080/",
          "height": 179
        },
        "outputId": "98bd6f56-80cf-4663-b7b5-b2585b748454"
      },
      "source": [
        "# 行列の掛け算\n",
        "array2 = np.arange(9, 18).reshape(3, 3)\n",
        "print(array2)\n",
        "\n",
        "print(np.dot(array1, array2))\n",
        "# 要素同士の積\n",
        "print(array1 * array2)"
      ],
      "execution_count": 174,
      "outputs": [
        {
          "output_type": "stream",
          "text": [
            "[[ 9 10 11]\n",
            " [12 13 14]\n",
            " [15 16 17]]\n",
            "[[ 42  45  48]\n",
            " [150 162 174]\n",
            " [258 279 300]]\n",
            "[[  0  10  22]\n",
            " [ 36  52  70]\n",
            " [ 90 112 136]]\n"
          ],
          "name": "stdout"
        }
      ]
    },
    {
      "cell_type": "code",
      "metadata": {
        "id": "wn7D_XkZuMLL",
        "colab_type": "code",
        "colab": {
          "base_uri": "https://localhost:8080/",
          "height": 89
        },
        "outputId": "4a831f8e-49c5-4eee-9bd1-d80762c91dda"
      },
      "source": [
        "# 要素が0や1の行列を作る\n",
        "print(np.zeros((2, 3), dtype = np.int64))\n",
        "print(np.ones((2, 3), dtype = np.float64))"
      ],
      "execution_count": 178,
      "outputs": [
        {
          "output_type": "stream",
          "text": [
            "[[0 0 0]\n",
            " [0 0 0]]\n",
            "[[1. 1. 1.]\n",
            " [1. 1. 1.]]\n"
          ],
          "name": "stdout"
        }
      ]
    },
    {
      "cell_type": "markdown",
      "metadata": {
        "id": "4RA2ee1WvXr_",
        "colab_type": "text"
      },
      "source": [
        "2-2 Practice"
      ]
    },
    {
      "cell_type": "code",
      "metadata": {
        "id": "yBvgAXOEu8Wp",
        "colab_type": "code",
        "colab": {
          "base_uri": "https://localhost:8080/",
          "height": 35
        },
        "outputId": "e89c713c-f446-46d5-e79d-69926d4b5f48"
      },
      "source": [
        "# 2-1\n",
        "data = np.arange(50) + 1\n",
        "data.sum()"
      ],
      "execution_count": 181,
      "outputs": [
        {
          "output_type": "execute_result",
          "data": {
            "text/plain": [
              "1275"
            ]
          },
          "metadata": {
            "tags": []
          },
          "execution_count": 181
        }
      ]
    },
    {
      "cell_type": "code",
      "metadata": {
        "id": "vQ3TFk3KvfDp",
        "colab_type": "code",
        "colab": {
          "base_uri": "https://localhost:8080/",
          "height": 89
        },
        "outputId": "79ed0988-313a-4482-f0fa-22241dcf93ac"
      },
      "source": [
        "# 2-2\n",
        "data = np.array([ random.randn() for _ in range(0, 10)])\n",
        "print(data)\n",
        "print('最小値: ', data.min())\n",
        "print('最大値: ', data.max())\n",
        "print('合計:', data.sum())"
      ],
      "execution_count": 193,
      "outputs": [
        {
          "output_type": "stream",
          "text": [
            "[ 1.274 -1.112  0.413 -0.869 -0.045  0.996 -0.143 -1.529 -0.794 -0.254]\n",
            "最小値:  -1.528877677178441\n",
            "最大値:  1.2742859364776449\n",
            "合計: -2.0612069111638784\n"
          ],
          "name": "stdout"
        }
      ]
    },
    {
      "cell_type": "code",
      "metadata": {
        "id": "e8iwLNNOv8-Z",
        "colab_type": "code",
        "colab": {
          "base_uri": "https://localhost:8080/",
          "height": 107
        },
        "outputId": "b34b8845-67f2-441a-8de1-b2db699838c1"
      },
      "source": [
        "# 2-3\n",
        "np.array([3 for _ in range(0, 25)]).reshape(5, 5) ** 2\n"
      ],
      "execution_count": 195,
      "outputs": [
        {
          "output_type": "execute_result",
          "data": {
            "text/plain": [
              "array([[9, 9, 9, 9, 9],\n",
              "       [9, 9, 9, 9, 9],\n",
              "       [9, 9, 9, 9, 9],\n",
              "       [9, 9, 9, 9, 9],\n",
              "       [9, 9, 9, 9, 9]])"
            ]
          },
          "metadata": {
            "tags": []
          },
          "execution_count": 195
        }
      ]
    },
    {
      "cell_type": "code",
      "metadata": {
        "id": "9L1-ITC8w3sb",
        "colab_type": "code",
        "colab": {}
      },
      "source": [
        ""
      ],
      "execution_count": 0,
      "outputs": []
    }
  ]
}