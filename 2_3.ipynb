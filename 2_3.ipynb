{
  "nbformat": 4,
  "nbformat_minor": 0,
  "metadata": {
    "colab": {
      "name": "2_3.ipynb",
      "version": "0.3.2",
      "provenance": [],
      "include_colab_link": true
    },
    "kernelspec": {
      "name": "python3",
      "display_name": "Python 3"
    }
  },
  "cells": [
    {
      "cell_type": "markdown",
      "metadata": {
        "id": "view-in-github",
        "colab_type": "text"
      },
      "source": [
        "<a href=\"https://colab.research.google.com/github/cokejunkie8191/data_scientist/blob/chapter_2/2_3.ipynb\" target=\"_parent\"><img src=\"https://colab.research.google.com/assets/colab-badge.svg\" alt=\"Open In Colab\"/></a>"
      ]
    },
    {
      "cell_type": "markdown",
      "metadata": {
        "id": "sOT9OsG0ymBX",
        "colab_type": "text"
      },
      "source": [
        "Scipyの基礎"
      ]
    },
    {
      "cell_type": "code",
      "metadata": {
        "id": "8z6BcK1MyD80",
        "colab_type": "code",
        "colab": {}
      },
      "source": [
        "# ライブラリのインポート\n",
        "import numpy as np\n",
        "import numpy.random as random\n",
        "import scipy as sp\n",
        "import pandas as pd\n",
        "from pandas import Series, DataFrame\n",
        "\n",
        "import matplotlib.pyplot as plt\n",
        "import matplotlib as mpl\n",
        "import seaborn as sns\n",
        "# 結果にグラフを表示\n",
        "%matplotlib inline\n",
        "\n",
        "# 小数第3位まで表示\n",
        "%precision 3\n",
        "\n",
        "# 乱数のシード=>これを実行しておくと、何回やっても同じ結果になる\n",
        "random.seed(0)\n",
        "\n",
        "# 線形代数用のライブラリ\n",
        "import scipy.linalg as linalg\n",
        "\n",
        "# 最適化計算(最小値)用の関数\n",
        "from scipy.optimize import minimize_scalar"
      ],
      "execution_count": 0,
      "outputs": []
    },
    {
      "cell_type": "markdown",
      "metadata": {
        "id": "LvUbTCRT1Gd0",
        "colab_type": "text"
      },
      "source": [
        "行列計算"
      ]
    },
    {
      "cell_type": "code",
      "metadata": {
        "id": "YpXDtspeyfRC",
        "colab_type": "code",
        "colab": {
          "base_uri": "https://localhost:8080/",
          "height": 179
        },
        "outputId": "58b1e495-8d7b-4e88-8339-0da6322c0da6"
      },
      "source": [
        "# 行列式と逆行列の計算\n",
        "matrix = np.array([[1, -1, -1], [-1, 1, -1], [-1, -1, 1]])\n",
        "\n",
        "# 行列式\n",
        "print('行列式')\n",
        "print(linalg.det(matrix))\n",
        "\n",
        "# 逆行列\n",
        "print('逆行列')\n",
        "print(linalg.inv(matrix))\n",
        "\n",
        "print(matrix.dot(linalg.inv(matrix)))"
      ],
      "execution_count": 9,
      "outputs": [
        {
          "output_type": "stream",
          "text": [
            "行列式\n",
            "-4.0\n",
            "逆行列\n",
            "[[ 0.  -0.5 -0.5]\n",
            " [-0.5 -0.  -0.5]\n",
            " [-0.5 -0.5  0. ]]\n",
            "[[1. 0. 0.]\n",
            " [0. 1. 0.]\n",
            " [0. 0. 1.]]\n"
          ],
          "name": "stdout"
        }
      ]
    },
    {
      "cell_type": "code",
      "metadata": {
        "id": "ChGdM5GtyzDB",
        "colab_type": "code",
        "colab": {
          "base_uri": "https://localhost:8080/",
          "height": 89
        },
        "outputId": "96a5253f-6ccf-49b3-e724-0d5f2bf0ff12"
      },
      "source": [
        "# 固有値と固有ベクトル\n",
        "eig_value, eig_vector = linalg.eig(matrix)\n",
        "\n",
        "print('固有値: ', eig_value)\n",
        "print('固有ベクトル: ', eig_vector)"
      ],
      "execution_count": 12,
      "outputs": [
        {
          "output_type": "stream",
          "text": [
            "固有値:  [-1.+0.j  2.+0.j  2.+0.j]\n",
            "固有ベクトル:  [[ 0.577  0.816  0.408]\n",
            " [ 0.577 -0.408 -0.816]\n",
            " [ 0.577 -0.408  0.408]]\n"
          ],
          "name": "stdout"
        }
      ]
    },
    {
      "cell_type": "markdown",
      "metadata": {
        "id": "uPkMu2fU1Jcb",
        "colab_type": "text"
      },
      "source": [
        "ニュートン法"
      ]
    },
    {
      "cell_type": "code",
      "metadata": {
        "id": "HQeLbKXC0SMC",
        "colab_type": "code",
        "colab": {
          "base_uri": "https://localhost:8080/",
          "height": 35
        },
        "outputId": "d18899cd-14e1-4484-f1e8-852aa0bce34c"
      },
      "source": [
        "# 方程式の解を求める\n",
        "# 関数の定義\n",
        "def my_function(x):\n",
        "  return (x ** 2 + x * 2 + 1)\n",
        "\n",
        "# ニュートン法の読み込み\n",
        "from scipy.optimize import newton\n",
        "\n",
        "# 計算実行\n",
        "print(newton(my_function, 0))"
      ],
      "execution_count": 14,
      "outputs": [
        {
          "output_type": "stream",
          "text": [
            "-0.9999999852953906\n"
          ],
          "name": "stdout"
        }
      ]
    },
    {
      "cell_type": "code",
      "metadata": {
        "id": "Oyr8n_OH1MsS",
        "colab_type": "code",
        "colab": {
          "base_uri": "https://localhost:8080/",
          "height": 107
        },
        "outputId": "28c48b40-73ec-4495-a849-5f0f913e8a8b"
      },
      "source": [
        "# 最小値を求める\n",
        "print(minimize_scalar(my_function, method = 'Brent'))"
      ],
      "execution_count": 15,
      "outputs": [
        {
          "output_type": "stream",
          "text": [
            "     fun: 0.0\n",
            "    nfev: 9\n",
            "     nit: 4\n",
            " success: True\n",
            "       x: -1.0000000000000002\n"
          ],
          "name": "stdout"
        }
      ]
    },
    {
      "cell_type": "markdown",
      "metadata": {
        "id": "tgoBjkxL1iz_",
        "colab_type": "text"
      },
      "source": [
        "Practice"
      ]
    },
    {
      "cell_type": "code",
      "metadata": {
        "id": "wY2HU31m1dNl",
        "colab_type": "code",
        "colab": {
          "base_uri": "https://localhost:8080/",
          "height": 35
        },
        "outputId": "001d465a-49a4-4828-e4fe-30c7eae26965"
      },
      "source": [
        "# 2-4\n",
        "a = np.array([1, 2, 3, 1, 3, 2, 3, 1, 2]).reshape(3, 3)\n",
        "print(linalg.det(a))"
      ],
      "execution_count": 17,
      "outputs": [
        {
          "output_type": "stream",
          "text": [
            "-12.0\n"
          ],
          "name": "stdout"
        }
      ]
    },
    {
      "cell_type": "code",
      "metadata": {
        "id": "_E3oGbpu1yqZ",
        "colab_type": "code",
        "colab": {
          "base_uri": "https://localhost:8080/",
          "height": 89
        },
        "outputId": "a4e70865-2729-469c-918e-6f1547dd0f55"
      },
      "source": [
        "# 2-5\n",
        "eig_value, eig_vector = linalg.eig(a)\n",
        "print('固有値: ', eig_value)\n",
        "print('固有ベクトル: ', eig_vector)"
      ],
      "execution_count": 19,
      "outputs": [
        {
          "output_type": "stream",
          "text": [
            "固有値:  [ 6.   +0.j -1.414+0.j  1.414+0.j]\n",
            "固有ベクトル:  [[-0.577 -0.722  0.16 ]\n",
            " [-0.577 -0.143 -0.811]\n",
            " [-0.577  0.677  0.563]]\n"
          ],
          "name": "stdout"
        }
      ]
    },
    {
      "cell_type": "code",
      "metadata": {
        "id": "lzlYpSQi2ADZ",
        "colab_type": "code",
        "colab": {
          "base_uri": "https://localhost:8080/",
          "height": 35
        },
        "outputId": "a69c6306-3819-4c9f-eabf-c336be63b065"
      },
      "source": [
        "# 2-6\n",
        "def practice_function(x):\n",
        "  return (x ** 3 + 2 * x + 1)\n",
        "\n",
        "newton(practice_function, 0)"
      ],
      "execution_count": 22,
      "outputs": [
        {
          "output_type": "execute_result",
          "data": {
            "text/plain": [
              "-0.453"
            ]
          },
          "metadata": {
            "tags": []
          },
          "execution_count": 22
        }
      ]
    },
    {
      "cell_type": "code",
      "metadata": {
        "id": "Ubz31B-m204b",
        "colab_type": "code",
        "colab": {}
      },
      "source": [
        ""
      ],
      "execution_count": 0,
      "outputs": []
    }
  ]
}