{
  "nbformat": 4,
  "nbformat_minor": 0,
  "metadata": {
    "colab": {
      "name": "overall.ipynb",
      "version": "0.3.2",
      "provenance": [],
      "collapsed_sections": [],
      "include_colab_link": true
    },
    "kernelspec": {
      "name": "python3",
      "display_name": "Python 3"
    }
  },
  "cells": [
    {
      "cell_type": "markdown",
      "metadata": {
        "id": "view-in-github",
        "colab_type": "text"
      },
      "source": [
        "<a href=\"https://colab.research.google.com/github/cokejunkie8191/data_scientist/blob/chapter_2/overall.ipynb\" target=\"_parent\"><img src=\"https://colab.research.google.com/assets/colab-badge.svg\" alt=\"Open In Colab\"/></a>"
      ]
    },
    {
      "cell_type": "markdown",
      "metadata": {
        "id": "xkQ6w5hKsiX6",
        "colab_type": "text"
      },
      "source": [
        "2章 総合問題"
      ]
    },
    {
      "cell_type": "code",
      "metadata": {
        "id": "iKDwuXJkr1Sq",
        "colab_type": "code",
        "colab": {}
      },
      "source": [
        "# ライブラリのインポート\n",
        "import numpy as np\n",
        "import numpy.random as random\n",
        "import scipy as sp\n",
        "import pandas as pd\n",
        "from pandas import Series, DataFrame\n",
        "\n",
        "import matplotlib.pyplot as plt\n",
        "import matplotlib.patches as patches\n",
        "import matplotlib as mpl\n",
        "import seaborn as sns\n",
        "import math\n",
        "# 結果にグラフを表示\n",
        "%matplotlib inline\n",
        "\n",
        "# 小数第3位まで表示\n",
        "%precision 3\n",
        "\n",
        "# 乱数のシード=>これを実行しておくと、何回やっても同じ結果になる\n",
        "random.seed(0)"
      ],
      "execution_count": 0,
      "outputs": []
    },
    {
      "cell_type": "code",
      "metadata": {
        "id": "aHr20cg7sl2y",
        "colab_type": "code",
        "colab": {}
      },
      "source": [
        "# 1.\n",
        "x = np.random.uniform(0.0, 1.0, 10000)\n",
        "y = np.random.uniform(0.0, 1.0, 10000)"
      ],
      "execution_count": 0,
      "outputs": []
    },
    {
      "cell_type": "code",
      "metadata": {
        "id": "bY5lRqZLtLbx",
        "colab_type": "code",
        "outputId": "e1d8e5db-e3a4-4480-a108-3e0a336218af",
        "colab": {
          "base_uri": "https://localhost:8080/",
          "height": 305
        }
      },
      "source": [
        "# 2.\n",
        "inside_plots  = [ (a, b) for a, b in zip(x, y) if math.hypot(a, b) <  1 ]\n",
        "outside_plots = [ (c, d) for c, d in zip(x, y) if math.hypot(c, d) >= 1 ]\n",
        "\n",
        "print(len(inside_plots))\n",
        "\n",
        "plt.figure()\n",
        "\n",
        "inside_plots_x,  inside_plots_y  = map(list, zip(*inside_plots))\n",
        "outside_plots_x, outside_plots_y = map(list, zip(*outside_plots))\n",
        "\n",
        "plt.plot(inside_plots_x, inside_plots_y, 'o', color=\"r\")\n",
        "plt.plot(outside_plots_x, outside_plots_y, 'o', color=\"b\")\n",
        "\n",
        "plt.axis('scaled')\n"
      ],
      "execution_count": 0,
      "outputs": [
        {
          "output_type": "stream",
          "text": [
            "7868\n"
          ],
          "name": "stdout"
        },
        {
          "output_type": "execute_result",
          "data": {
            "text/plain": [
              "(-0.050, 1.050, -0.050, 1.050)"
            ]
          },
          "metadata": {
            "tags": []
          },
          "execution_count": 59
        },
        {
          "output_type": "display_data",
          "data": {
            "image/png": "[encoded data removed]",
            "text/plain": [
              "<Figure size 432x288 with 1 Axes>"
            ]
          },
          "metadata": {
            "tags": []
          }
        }
      ]
    },
    {
      "cell_type": "code",
      "metadata": {
        "id": "vOrIRwmetvwr",
        "colab_type": "code",
        "outputId": "e779a10a-f7fe-453a-f033-3a8b8915fda3",
        "colab": {
          "base_uri": "https://localhost:8080/",
          "height": 35
        }
      },
      "source": [
        "# 3.\n",
        "# 10000:7868 = 1:π/4\n",
        "# 2500π = 7868\n",
        "pi = 7868 / 2500\n",
        "print(pi)\n"
      ],
      "execution_count": 0,
      "outputs": [
        {
          "output_type": "stream",
          "text": [
            "3.1472\n"
          ],
          "name": "stdout"
        }
      ]
    }
  ]
}